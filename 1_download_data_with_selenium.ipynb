{
 "cells": [
  {
   "cell_type": "code",
   "execution_count": 118,
   "metadata": {},
   "outputs": [],
   "source": [
    "from selenium import webdriver\n",
    "from selenium.webdriver.common.keys import Keys\n",
    "import pandas as pd\n",
    "import numpy as np\n",
    "import datetime\n",
    "import urllib\n",
    "import time"
   ]
  },
  {
   "cell_type": "code",
   "execution_count": 3,
   "metadata": {},
   "outputs": [],
   "source": [
    "# Open browser\n",
    "driver = webdriver.Chrome('chromedriver.exe')"
   ]
  },
  {
   "cell_type": "code",
   "execution_count": 57,
   "metadata": {},
   "outputs": [],
   "source": [
    "# Lets create a calendar of dates with 2 weeks frequency\n",
    "cal = pd.date_range(start='2015-01-01', end='2020-01-01', freq='14D')"
   ]
  },
  {
   "cell_type": "code",
   "execution_count": 122,
   "metadata": {},
   "outputs": [],
   "source": [
    "# Loop over the website\n",
    "for i in range(len(cal)-1):\n",
    "    \n",
    "    # Open the website\n",
    "    driver.get('http://stat.gibdd.ru')\n",
    "    \n",
    "    # Find and move to the right category of the website\n",
    "    section = driver.find_element_by_id('downloadAction')\n",
    "    section.click()\n",
    "\n",
    "    # Find and move to the subcategory\n",
    "    subcat = driver.find_element_by_xpath('/html/body/div[4]/div[3]/div/div[4]/div/a[3]')\n",
    "    subcat.click()\n",
    "\n",
    "    # Define date strings\n",
    "    send_date_1 = cal[i].strftime('%d') + cal[i].strftime('%m') + cal[i].strftime('%Y')\n",
    "    send_date_2 = cal[i+1].strftime('%d') + cal[i+1].strftime('%m') + cal[i+1].strftime('%Y')\n",
    "\n",
    "    # Find input form to pass dates\n",
    "    date_1 = driver.find_element_by_xpath('/html/body/div[4]/div[3]/div/div[4]/div[3]/div[2]/div/input[1]')\n",
    "    date_2 = driver.find_element_by_xpath('/html/body/div[4]/div[3]/div/div[4]/div[3]/div[2]/div/input[2]')\n",
    "\n",
    "    # Set date range\n",
    "    date_1.click()\n",
    "    date_1.send_keys(send_date_1)\n",
    "    date_1.send_keys(Keys.ENTER)\n",
    "    date_2.click()\n",
    "    date_2.send_keys(send_date_2)\n",
    "    date_2.send_keys(Keys.ENTER)\n",
    "\n",
    "    # Set region\n",
    "    search = driver.find_element_by_xpath('/html/body/div[4]/div[3]/div/div[4]/div[4]/div[2]/div/div[1]/input')\n",
    "    search.send_keys('Астраханская область')\n",
    "    region = driver.find_element_by_xpath('/html/body/div[4]/div[3]/div/div[4]/div[4]/div[2]/div/div[2]/div/div/div/ul/li/ul/li[3]/ul/li[5]/span')\n",
    "    region.click()\n",
    "\n",
    "    # Set type of data to download\n",
    "    search = driver.find_element_by_xpath('/html/body/div[4]/div[3]/div/div[4]/div[8]/div[2]/div/div[1]/input')\n",
    "    search.send_keys('Дорожно-транспортные происшествия')\n",
    "    dtp = driver.find_element_by_xpath('/html/body/div[4]/div[3]/div/div[4]/div[8]/div[2]/div/div[2]/div/div/div/ul/li[1]/span[2]')\n",
    "    dtp.click()\n",
    "\n",
    "    # Choose the type of data structure\n",
    "    button = driver.find_element_by_xpath('/html/body/div[4]/div[3]/div/div[4]/div[9]/div[2]/div/div/button[2]')\n",
    "    button.click()\n",
    "\n",
    "    # Choose the format of file\n",
    "    xlsx = driver.find_element_by_xpath('/html/body/div[4]/div[3]/div/div[4]/div[10]/div[2]/div/div/button[2]')\n",
    "    xlsx.click()\n",
    "    \n",
    "    # Click download button\n",
    "    download = driver.find_element_by_xpath('/html/body/div[4]/div[3]/div/div[4]/div[11]/button')\n",
    "    download.click()\n",
    "    \n",
    "    # Give some time to download the file\n",
    "    time.sleep(10)"
   ]
  }
 ],
 "metadata": {
  "kernelspec": {
   "display_name": "Python 3",
   "language": "python",
   "name": "python3"
  },
  "language_info": {
   "codemirror_mode": {
    "name": "ipython",
    "version": 3
   },
   "file_extension": ".py",
   "mimetype": "text/x-python",
   "name": "python",
   "nbconvert_exporter": "python",
   "pygments_lexer": "ipython3",
   "version": "3.7.4"
  }
 },
 "nbformat": 4,
 "nbformat_minor": 2
}
